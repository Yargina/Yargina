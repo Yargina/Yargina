{
 "cells": [
  {
   "cell_type": "code",
   "execution_count": 3,
   "metadata": {},
   "outputs": [],
   "source": [
    "import pandas as pd"
   ]
  },
  {
   "cell_type": "code",
   "execution_count": 6,
   "metadata": {},
   "outputs": [],
   "source": [
    "page_url = 'https://www.finanz.ru/valyuty/usd-rub'\n",
    "df1 = pd.read_html(page_url, attrs = {'class': 'news_table'}, encoding='utf-8')"
   ]
  },
  {
   "cell_type": "code",
   "execution_count": 10,
   "metadata": {},
   "outputs": [
    {
     "data": {
      "text/plain": [
       "[       Дата  Закрытие  Открытие  Максимум  Минимум\n",
       " 0  03.11.20    791537    805250    806645   790560\n",
       " 1  02.11.20    805250    794580    809545   794494\n",
       " 2  30.10.20    793720    788895    796315   787245\n",
       " 3  29.10.20    788785    790685    796255   785915\n",
       " 4  28.10.20    790670    771567    792490   771566\n",
       " 5  27.10.20    771566    763739    773235   762500\n",
       " 6  26.10.20    763505    762870    766170   760145\n",
       " 7  25.10.20    762620    759245    762620   759245,\n",
       "        Имя  Unnamed: 1     %     курс                 Дата\n",
       " 0  EUR/RUB         NaN -1438    92701  04.11.2020 13:38:00\n",
       " 1  USD/RUB         NaN  2354     7934  04.11.2020 13:38:00\n",
       " 2  CHF/RUB         NaN  1293   868275  04.11.2020 13:39:00\n",
       " 3  JPY/RUB         NaN  1148     7576  04.11.2020 13:39:00\n",
       " 4  GBP/RUB         NaN -5047  1029319  04.11.2020 13:39:00\n",
       " 5  NOK/RUB         NaN -5387    83948  04.11.2020 13:39:00\n",
       " 6  AUD/RUB         NaN -6588   563322  04.11.2020 13:39:00\n",
       " 7  NZD/RUB         NaN -8515     5266  04.11.2020 13:39:00\n",
       " 8  TRY/RUB         NaN -8767    93255  04.11.2020 13:39:00]"
      ]
     },
     "execution_count": 10,
     "metadata": {},
     "output_type": "execute_result"
    }
   ],
   "source": [
    "df1[:5]"
   ]
  },
  {
   "cell_type": "code",
   "execution_count": null,
   "metadata": {},
   "outputs": [],
   "source": []
  }
 ],
 "metadata": {
  "kernelspec": {
   "display_name": "Python 3",
   "language": "python",
   "name": "python3"
  },
  "language_info": {
   "codemirror_mode": {
    "name": "ipython",
    "version": 3
   },
   "file_extension": ".py",
   "mimetype": "text/x-python",
   "name": "python",
   "nbconvert_exporter": "python",
   "pygments_lexer": "ipython3",
   "version": "3.8.3"
  }
 },
 "nbformat": 4,
 "nbformat_minor": 4
}
